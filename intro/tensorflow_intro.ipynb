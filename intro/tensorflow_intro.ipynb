{
 "cells": [
  {
   "cell_type": "markdown",
   "metadata": {
    "deletable": true,
    "editable": true
   },
   "source": [
    "# Intro to TensorFlow\n",
    "\n",
    "The following is a small intro to how computational frameworks (theano, tensorflow) work in general."
   ]
  },
  {
   "cell_type": "markdown",
   "metadata": {
    "deletable": true,
    "editable": true
   },
   "source": [
    "### The MNIST dataset\n",
    "\n",
    "It's just a set of 28 x 28 pixels of hand-written digits (greyscale) with labels which digit is on the picture."
   ]
  },
  {
   "cell_type": "code",
   "execution_count": 24,
   "metadata": {
    "collapsed": false,
    "deletable": true,
    "editable": true
   },
   "outputs": [
    {
     "name": "stdout",
     "output_type": "stream",
     "text": [
      "Extracting MNIST_data/train-images-idx3-ubyte.gz\n",
      "Extracting MNIST_data/train-labels-idx1-ubyte.gz\n",
      "Extracting MNIST_data/t10k-images-idx3-ubyte.gz\n",
      "Extracting MNIST_data/t10k-labels-idx1-ubyte.gz\n"
     ]
    }
   ],
   "source": [
    "# first we need some data\n",
    "from tensorflow.examples.tutorials.mnist import input_data\n",
    "mnist = input_data.read_data_sets(\"MNIST_data/\", one_hot=True)"
   ]
  },
  {
   "cell_type": "markdown",
   "metadata": {
    "deletable": true,
    "editable": true
   },
   "source": [
    "### Let's load a minibatch of 100\n",
    "\n",
    "We'll provide such mini-batches to our model during training to show it what it should learn."
   ]
  },
  {
   "cell_type": "code",
   "execution_count": 25,
   "metadata": {
    "collapsed": false,
    "deletable": true,
    "editable": true
   },
   "outputs": [],
   "source": [
    "batch_samples, batch_labels = mnist.train.next_batch(100)"
   ]
  },
  {
   "cell_type": "code",
   "execution_count": 26,
   "metadata": {
    "collapsed": false,
    "deletable": true,
    "editable": true
   },
   "outputs": [
    {
     "data": {
      "text/plain": [
       "(100, 784)"
      ]
     },
     "execution_count": 26,
     "metadata": {},
     "output_type": "execute_result"
    }
   ],
   "source": [
    "batch_samples.shape"
   ]
  },
  {
   "cell_type": "code",
   "execution_count": 8,
   "metadata": {
    "collapsed": false,
    "deletable": true,
    "editable": true
   },
   "outputs": [
    {
     "data": {
      "text/plain": [
       "(100, 10)"
      ]
     },
     "execution_count": 8,
     "metadata": {},
     "output_type": "execute_result"
    }
   ],
   "source": [
    "batch_labels.shape"
   ]
  },
  {
   "cell_type": "markdown",
   "metadata": {
    "deletable": true,
    "editable": true
   },
   "source": [
    "### Now let's check an actual image:\n",
    "\n",
    "Images are represented as a vector of number values, corresponding to the color intensity. Any sort of data can be represented as **numbers**, i.e. **vectors**. \n",
    "\n",
    "This means you can think of any sort of object as a point in a very high-dimensional space. Example: if your object is characterized by **(age, height, income)**, it's a point in 3D space. Our images above are points in 784-dim space."
   ]
  },
  {
   "cell_type": "code",
   "execution_count": 22,
   "metadata": {
    "collapsed": false,
    "deletable": true,
    "editable": true
   },
   "outputs": [
    {
     "data": {
      "text/plain": [
       "array([ 0.        ,  0.        ,  0.        ,  0.        ,  0.        ,\n",
       "        0.        ,  0.        ,  0.        ,  0.        ,  0.        ,\n",
       "        0.        ,  0.        ,  0.        ,  0.        ,  0.        ,\n",
       "        0.        ,  0.        ,  0.        ,  0.        ,  0.        ,\n",
       "        0.        ,  0.        ,  0.        ,  0.        ,  0.        ,\n",
       "        0.        ,  0.        ,  0.        ,  0.        ,  0.        ,\n",
       "        0.        ,  0.        ,  0.        ,  0.        ,  0.        ,\n",
       "        0.        ,  0.        ,  0.        ,  0.        ,  0.        ,\n",
       "        0.        ,  0.        ,  0.        ,  0.        ,  0.        ,\n",
       "        0.        ,  0.        ,  0.        ,  0.        ,  0.        ,\n",
       "        0.        ,  0.        ,  0.        ,  0.        ,  0.        ,\n",
       "        0.        ,  0.        ,  0.        ,  0.        ,  0.        ,\n",
       "        0.        ,  0.        ,  0.        ,  0.        ,  0.        ,\n",
       "        0.        ,  0.        ,  0.        ,  0.        ,  0.        ,\n",
       "        0.        ,  0.        ,  0.        ,  0.        ,  0.        ,\n",
       "        0.        ,  0.        ,  0.        ,  0.        ,  0.        ,\n",
       "        0.        ,  0.        ,  0.        ,  0.        ,  0.        ,\n",
       "        0.        ,  0.        ,  0.        ,  0.        ,  0.        ,\n",
       "        0.        ,  0.        ,  0.        ,  0.        ,  0.        ,\n",
       "        0.        ,  0.        ,  0.        ,  0.        ,  0.5529412 ,\n",
       "        1.        ,  0.50196081,  0.09803922,  0.        ,  0.        ,\n",
       "        0.        ,  0.        ,  0.        ,  0.        ,  0.        ,\n",
       "        0.        ,  0.        ,  0.        ,  0.        ,  0.        ,\n",
       "        0.        ,  0.        ,  0.        ,  0.        ,  0.        ,\n",
       "        0.        ,  0.        ,  0.        ,  0.        ,  0.        ,\n",
       "        0.07450981,  0.39607847,  0.94117653,  0.99215692,  0.98823535,\n",
       "        0.70588237,  0.        ,  0.        ,  0.        ,  0.        ,\n",
       "        0.        ,  0.        ,  0.        ,  0.        ,  0.        ,\n",
       "        0.        ,  0.        ,  0.        ,  0.        ,  0.        ,\n",
       "        0.        ,  0.        ,  0.        ,  0.        ,  0.        ,\n",
       "        0.        ,  0.        ,  0.        ,  0.34509805,  0.98823535,\n",
       "        0.98823535,  0.99215692,  0.98823535,  0.76470596,  0.        ,\n",
       "        0.        ,  0.        ,  0.        ,  0.        ,  0.        ,\n",
       "        0.        ,  0.        ,  0.        ,  0.        ,  0.        ,\n",
       "        0.        ,  0.        ,  0.        ,  0.        ,  0.        ,\n",
       "        0.        ,  0.        ,  0.        ,  0.        ,  0.        ,\n",
       "        0.03921569,  0.7960785 ,  0.98823535,  0.98823535,  0.99215692,\n",
       "        0.88627458,  0.37647063,  0.        ,  0.        ,  0.        ,\n",
       "        0.        ,  0.        ,  0.        ,  0.        ,  0.        ,\n",
       "        0.        ,  0.        ,  0.        ,  0.        ,  0.        ,\n",
       "        0.        ,  0.        ,  0.        ,  0.        ,  0.        ,\n",
       "        0.        ,  0.        ,  0.        ,  0.63921571,  0.98823535,\n",
       "        0.98823535,  0.98823535,  0.74509805,  0.04705883,  0.        ,\n",
       "        0.        ,  0.        ,  0.        ,  0.        ,  0.        ,\n",
       "        0.        ,  0.        ,  0.        ,  0.        ,  0.        ,\n",
       "        0.        ,  0.        ,  0.        ,  0.        ,  0.        ,\n",
       "        0.        ,  0.        ,  0.        ,  0.        ,  0.        ,\n",
       "        0.20000002,  0.9333334 ,  0.99215692,  0.99215692,  0.74509805,\n",
       "        0.        ,  0.        ,  0.        ,  0.        ,  0.        ,\n",
       "        0.        ,  0.        ,  0.        ,  0.        ,  0.        ,\n",
       "        0.        ,  0.        ,  0.        ,  0.        ,  0.        ,\n",
       "        0.        ,  0.        ,  0.        ,  0.        ,  0.        ,\n",
       "        0.        ,  0.        ,  0.        ,  0.9333334 ,  0.98823535,\n",
       "        0.98823535,  0.98823535,  0.43921572,  0.        ,  0.        ,\n",
       "        0.        ,  0.        ,  0.        ,  0.        ,  0.        ,\n",
       "        0.        ,  0.        ,  0.        ,  0.        ,  0.        ,\n",
       "        0.        ,  0.        ,  0.        ,  0.        ,  0.        ,\n",
       "        0.        ,  0.        ,  0.        ,  0.        ,  0.        ,\n",
       "        0.43529415,  0.99215692,  0.98823535,  0.98823535,  0.77647066,\n",
       "        0.09803922,  0.        ,  0.        ,  0.        ,  0.        ,\n",
       "        0.        ,  0.        ,  0.        ,  0.        ,  0.        ,\n",
       "        0.        ,  0.        ,  0.        ,  0.        ,  0.        ,\n",
       "        0.        ,  0.        ,  0.        ,  0.        ,  0.        ,\n",
       "        0.        ,  0.        ,  0.07450981,  0.84313732,  0.99215692,\n",
       "        0.98823535,  0.83921576,  0.10980393,  0.        ,  0.        ,\n",
       "        0.        ,  0.        ,  0.        ,  0.        ,  0.        ,\n",
       "        0.        ,  0.        ,  0.        ,  0.        ,  0.        ,\n",
       "        0.        ,  0.        ,  0.        ,  0.        ,  0.        ,\n",
       "        0.        ,  0.        ,  0.        ,  0.        ,  0.        ,\n",
       "        0.41960788,  0.98823535,  0.99215692,  0.98823535,  0.46274513,\n",
       "        0.30980393,  0.30980393,  0.5529412 ,  0.54901963,  0.54901963,\n",
       "        0.54901963,  0.24705884,  0.        ,  0.        ,  0.        ,\n",
       "        0.        ,  0.        ,  0.        ,  0.        ,  0.        ,\n",
       "        0.        ,  0.        ,  0.        ,  0.        ,  0.        ,\n",
       "        0.        ,  0.        ,  0.22352943,  0.99215692,  0.99215692,\n",
       "        1.        ,  0.99215692,  0.99215692,  0.99215692,  0.99215692,\n",
       "        1.        ,  0.99215692,  0.99215692,  0.99215692,  0.99215692,\n",
       "        0.75294125,  0.04705883,  0.        ,  0.        ,  0.        ,\n",
       "        0.        ,  0.        ,  0.        ,  0.        ,  0.        ,\n",
       "        0.        ,  0.        ,  0.        ,  0.        ,  0.        ,\n",
       "        0.22352943,  0.98823535,  0.98823535,  0.99215692,  0.98823535,\n",
       "        0.98823535,  0.98823535,  0.98823535,  0.99215692,  0.98823535,\n",
       "        0.98823535,  0.98823535,  0.98823535,  0.99215692,  0.70980394,\n",
       "        0.07450981,  0.        ,  0.        ,  0.        ,  0.        ,\n",
       "        0.        ,  0.        ,  0.        ,  0.        ,  0.        ,\n",
       "        0.        ,  0.        ,  0.        ,  0.22352943,  0.98823535,\n",
       "        0.98823535,  0.99215692,  0.98823535,  0.98823535,  0.98823535,\n",
       "        0.86274517,  0.76862752,  0.46274513,  0.81568635,  0.86274517,\n",
       "        0.98823535,  0.99215692,  0.98823535,  0.21568629,  0.        ,\n",
       "        0.        ,  0.        ,  0.        ,  0.        ,  0.        ,\n",
       "        0.        ,  0.        ,  0.        ,  0.        ,  0.        ,\n",
       "        0.        ,  0.58823532,  0.98823535,  0.98823535,  0.99215692,\n",
       "        0.98823535,  0.77647066,  0.32941177,  0.14509805,  0.        ,\n",
       "        0.        ,  0.09803922,  0.31764707,  0.98823535,  0.99215692,\n",
       "        0.98823535,  0.21568629,  0.        ,  0.        ,  0.        ,\n",
       "        0.        ,  0.        ,  0.        ,  0.        ,  0.        ,\n",
       "        0.        ,  0.        ,  0.        ,  0.        ,  0.77254909,\n",
       "        0.98823535,  0.98823535,  0.99215692,  0.80000007,  0.09803922,\n",
       "        0.        ,  0.        ,  0.        ,  0.        ,  0.22352943,\n",
       "        0.98823535,  0.98823535,  0.99215692,  0.80000007,  0.09803922,\n",
       "        0.        ,  0.        ,  0.        ,  0.        ,  0.        ,\n",
       "        0.        ,  0.        ,  0.        ,  0.        ,  0.        ,\n",
       "        0.        ,  0.        ,  0.22352943,  0.99215692,  0.99215692,\n",
       "        1.        ,  0.35294119,  0.        ,  0.        ,  0.24705884,\n",
       "        0.44705886,  0.9333334 ,  0.99215692,  0.99215692,  0.99215692,\n",
       "        0.80000007,  0.05882353,  0.        ,  0.        ,  0.        ,\n",
       "        0.        ,  0.        ,  0.        ,  0.        ,  0.        ,\n",
       "        0.        ,  0.        ,  0.        ,  0.        ,  0.        ,\n",
       "        0.02352941,  0.69411767,  0.98823535,  0.99215692,  0.95294124,\n",
       "        0.88235301,  0.88235301,  0.94117653,  0.99215692,  0.98823535,\n",
       "        0.98823535,  0.94901967,  0.34901962,  0.05882353,  0.        ,\n",
       "        0.        ,  0.        ,  0.        ,  0.        ,  0.        ,\n",
       "        0.        ,  0.        ,  0.        ,  0.        ,  0.        ,\n",
       "        0.        ,  0.        ,  0.        ,  0.        ,  0.53725493,\n",
       "        0.98823535,  0.99215692,  0.98823535,  0.98823535,  0.98823535,\n",
       "        0.98823535,  0.99215692,  0.78823537,  0.64313728,  0.19215688,\n",
       "        0.        ,  0.        ,  0.        ,  0.        ,  0.        ,\n",
       "        0.        ,  0.        ,  0.        ,  0.        ,  0.        ,\n",
       "        0.        ,  0.        ,  0.        ,  0.        ,  0.        ,\n",
       "        0.        ,  0.        ,  0.03921569,  0.63137257,  0.99215692,\n",
       "        0.98823535,  0.98823535,  0.97647065,  0.56862748,  0.32941177,\n",
       "        0.03529412,  0.        ,  0.        ,  0.        ,  0.        ,\n",
       "        0.        ,  0.        ,  0.        ,  0.        ,  0.        ,\n",
       "        0.        ,  0.        ,  0.        ,  0.        ,  0.        ,\n",
       "        0.        ,  0.        ,  0.        ,  0.        ,  0.        ,\n",
       "        0.        ,  0.        ,  0.43921572,  0.61960787,  0.5529412 ,\n",
       "        0.38823533,  0.        ,  0.        ,  0.        ,  0.        ,\n",
       "        0.        ,  0.        ,  0.        ,  0.        ,  0.        ,\n",
       "        0.        ,  0.        ,  0.        ,  0.        ,  0.        ,\n",
       "        0.        ,  0.        ,  0.        ,  0.        ,  0.        ,\n",
       "        0.        ,  0.        ,  0.        ,  0.        ,  0.        ,\n",
       "        0.        ,  0.        ,  0.        ,  0.        ,  0.        ,\n",
       "        0.        ,  0.        ,  0.        ,  0.        ,  0.        ,\n",
       "        0.        ,  0.        ,  0.        ,  0.        ,  0.        ,\n",
       "        0.        ,  0.        ,  0.        ,  0.        ,  0.        ,\n",
       "        0.        ,  0.        ,  0.        ,  0.        ,  0.        ,\n",
       "        0.        ,  0.        ,  0.        ,  0.        ,  0.        ,\n",
       "        0.        ,  0.        ,  0.        ,  0.        ,  0.        ,\n",
       "        0.        ,  0.        ,  0.        ,  0.        ,  0.        ,\n",
       "        0.        ,  0.        ,  0.        ,  0.        ,  0.        ,\n",
       "        0.        ,  0.        ,  0.        ,  0.        ,  0.        ,\n",
       "        0.        ,  0.        ,  0.        ,  0.        ,  0.        ,\n",
       "        0.        ,  0.        ,  0.        ,  0.        ,  0.        ,\n",
       "        0.        ,  0.        ,  0.        ,  0.        ,  0.        ,\n",
       "        0.        ,  0.        ,  0.        ,  0.        ,  0.        ,\n",
       "        0.        ,  0.        ,  0.        ,  0.        ,  0.        ,\n",
       "        0.        ,  0.        ,  0.        ,  0.        ,  0.        ,\n",
       "        0.        ,  0.        ,  0.        ,  0.        ,  0.        ,\n",
       "        0.        ,  0.        ,  0.        ,  0.        ,  0.        ,\n",
       "        0.        ,  0.        ,  0.        ,  0.        ,  0.        ,\n",
       "        0.        ,  0.        ,  0.        ,  0.        ,  0.        ,\n",
       "        0.        ,  0.        ,  0.        ,  0.        ,  0.        ,\n",
       "        0.        ,  0.        ,  0.        ,  0.        ,  0.        ,\n",
       "        0.        ,  0.        ,  0.        ,  0.        ,  0.        ,\n",
       "        0.        ,  0.        ,  0.        ,  0.        ,  0.        ,\n",
       "        0.        ,  0.        ,  0.        ,  0.        ,  0.        ,\n",
       "        0.        ,  0.        ,  0.        ,  0.        ], dtype=float32)"
      ]
     },
     "execution_count": 22,
     "metadata": {},
     "output_type": "execute_result"
    }
   ],
   "source": [
    "image = batch_samples[0]\n",
    "image"
   ]
  },
  {
   "cell_type": "code",
   "execution_count": 23,
   "metadata": {
    "collapsed": false,
    "deletable": true,
    "editable": true
   },
   "outputs": [
    {
     "data": {
      "text/plain": [
       "<matplotlib.image.AxesImage at 0x7f70738354a8>"
      ]
     },
     "execution_count": 23,
     "metadata": {},
     "output_type": "execute_result"
    },
    {
     "data": {
      "image/png": "[encoded data removed]",
      "text/plain": [
       "<matplotlib.figure.Figure at 0x7f7073cbe0b8>"
      ]
     },
     "metadata": {},
     "output_type": "display_data"
    }
   ],
   "source": [
    "image = image.reshape((28, 28))\n",
    "from matplotlib.pyplot import imshow\n",
    "%matplotlib inline\n",
    "imshow(image, cmap='gray')"
   ]
  },
  {
   "cell_type": "markdown",
   "metadata": {
    "deletable": true,
    "editable": true
   },
   "source": [
    "### Let's check what a label is\n",
    "\n",
    "When we do classification, we use 1-hot encodings to represent the labels for multiple classes. Example, if there are 5 different classes and a point is in class 4:\n",
    "\n",
    "```\n",
    "[0, 0, 0, 1, 0]\n",
    "```\n",
    "\n",
    "Is the one-hot encoding of this class-membership. \n",
    "\n",
    "We use 1-hot encodings because if we just used numbers: 1 for class 1, 2 for class 2, etc... then the network would understand that class 4 is *\"4 times bigger\"* than class 1, which makes no sense and will lead the network in the wrong direction."
   ]
  },
  {
   "cell_type": "code",
   "execution_count": 28,
   "metadata": {
    "collapsed": false,
    "deletable": true,
    "editable": true
   },
   "outputs": [
    {
     "data": {
      "text/plain": [
       "array([ 0.,  0.,  0.,  0.,  0.,  1.,  0.,  0.,  0.,  0.])"
      ]
     },
     "execution_count": 28,
     "metadata": {},
     "output_type": "execute_result"
    }
   ],
   "source": [
    "label = batch_labels[0]\n",
    "label"
   ]
  },
  {
   "cell_type": "markdown",
   "metadata": {
    "deletable": true,
    "editable": true
   },
   "source": [
    "## Now let's classify those digits in TensorFlow\n",
    "\n",
    "Tensorflow is a computational framework, it let's us define mathematical expressions (i.e. formulas) and execute them on some inputs (distributed on GPUs even).\n",
    "\n",
    "It also provides automatic gradient computations (differentiation of the formulas).\n",
    "\n",
    "The formulas are first defined **symbolically**, as a template, and then used on actual data. Just like one does in math: you have a function with some parameters and inputs (the symbolic variables) and when you evaluate the function you plug in real values into those.\n"
   ]
  },
  {
   "cell_type": "markdown",
   "metadata": {
    "deletable": true,
    "editable": true
   },
   "source": [
    "### First, let us construct our mapping from data to labels"
   ]
  },
  {
   "cell_type": "code",
   "execution_count": 36,
   "metadata": {
    "collapsed": false,
    "deletable": true,
    "editable": true
   },
   "outputs": [],
   "source": [
    "import tensorflow as tf\n",
    "\n",
    "# define a symbolic variable for the image input\n",
    "# None is special syntax in most deep learning frameworks,\n",
    "# it means this dimension might vary (it's the batch size)\n",
    "x = tf.placeholder(dtype=tf.float32, \n",
    "                   shape=[None, 784])\n",
    "\n",
    "# define symbolic variables for the parameters of our function\n",
    "# tf.Variables are like function parameters, they are not the \n",
    "# arguments of the function, they define what the function\n",
    "W = tf.Variable(tf.zeros(shape=[784, 10]))\n",
    "b = tf.Variable(tf.zeros(shape=[10]))\n",
    "\n",
    "# Now we will construct our function expression:\n",
    "#\n",
    "# Wx + b\n",
    "#\n",
    "# It's a linear transformation of the input\n",
    "preds = tf.matmul(x, W) + b\n",
    "\n",
    "# We now have transformed x to a 10-dim. vector,\n",
    "# but we want to interpret each output as the probability\n",
    "# of each of the 10 classes: and discrete probabilities sum up to 1.\n",
    "# So we apply a softmax() to make this happen:\n",
    "preds = tf.nn.softmax(preds)"
   ]
  },
  {
   "cell_type": "markdown",
   "metadata": {
    "deletable": true,
    "editable": true
   },
   "source": [
    "### Now let's define our loss (what we need to optimize)\n",
    "\n",
    "The loss for multi-class classification is the [categorical cross-entropy](https://en.wikipedia.org/wiki/Cross_entropy).\n",
    "\n",
    "When we define prediction & classification losses, we always need the true labels (ground truths) to *\"compare\"* against:"
   ]
  },
  {
   "cell_type": "code",
   "execution_count": 39,
   "metadata": {
    "collapsed": true,
    "deletable": true,
    "editable": true
   },
   "outputs": [],
   "source": [
    "# this is now an argument (input) of the cost function,\n",
    "# and not a parameter - hence tf.placeholder\n",
    "targets = tf.placeholder(dtype=tf.float32, shape=[None, 10])\n",
    "\n",
    "# now we define the cross_entropy formula\n",
    "temp = - targets * tf.log(preds)\n",
    "\n",
    "# but we need to sum over axis 1 (0 index),\n",
    "# that's the 10-dim axis\n",
    "temp = tf.reduce_sum(temp, reduction_indices=[1])\n",
    "\n",
    "# and then take the mean over all samples in the batch\n",
    "cross_entropy_loss = tf.reduce_mean(temp)"
   ]
  },
  {
   "cell_type": "markdown",
   "metadata": {
    "deletable": true,
    "editable": true
   },
   "source": [
    "### Now we need to optimize the loss (minimize it)\n",
    "\n",
    "We use a gradient descent method and gradually step down the loss surface until we reach a local minimum.\n",
    "\n",
    "```\n",
    "params = params - learning_rate * gradient\n",
    "```"
   ]
  },
  {
   "cell_type": "code",
   "execution_count": 44,
   "metadata": {
    "collapsed": false,
    "deletable": true,
    "editable": true
   },
   "outputs": [],
   "source": [
    "# we define our optimization method\n",
    "# it will automatically do the derivatives for us\n",
    "optimizer = tf.train.GradientDescentOptimizer(learning_rate=0.5)\n",
    "\n",
    "# and then we take the update step:\n",
    "#\n",
    "# params = params - learning_rate * gradient\n",
    "#\n",
    "# from it\n",
    "# NOTE: this is still a symbolic !!\n",
    "update_step = optimizer.minimize(loss=cross_entropy_loss,\n",
    "                                var_list=[W, b])"
   ]
  },
  {
   "cell_type": "markdown",
   "metadata": {
    "deletable": true,
    "editable": true
   },
   "source": [
    "### Finally, let's do the actual optimization\n",
    "\n",
    "Now we get to plug in real data in the above template, everything so far has been just (symbolic) declaration of what we would want to do."
   ]
  },
  {
   "cell_type": "code",
   "execution_count": 46,
   "metadata": {
    "collapsed": true,
    "deletable": true,
    "editable": true
   },
   "outputs": [],
   "source": [
    "# we need a session to actually run expressions\n",
    "sess = tf.InteractiveSession()\n",
    "\n",
    "# we initialize all global variables\n",
    "# those are W and b in this case\n",
    "tf.global_variables_initializer().run()\n",
    "\n",
    "# and now we do 1000 optimizations\n",
    "for _ in range(1000):\n",
    "    batch_samples, batch_labels = mnist.train.next_batch(100)\n",
    "    \n",
    "    # we run the update_step from above, feeding in actual values\n",
    "    # for x and targets\n",
    "    sess.run(update_step, feed_dict={x: batch_samples,\n",
    "                                    targets: batch_labels})"
   ]
  },
  {
   "cell_type": "markdown",
   "metadata": {
    "deletable": true,
    "editable": true
   },
   "source": [
    "### Let's see how our model performs"
   ]
  },
  {
   "cell_type": "code",
   "execution_count": 50,
   "metadata": {
    "collapsed": false,
    "deletable": true,
    "editable": true
   },
   "outputs": [
    {
     "data": {
      "text/plain": [
       "0.91659999"
      ]
     },
     "execution_count": 50,
     "metadata": {},
     "output_type": "execute_result"
    }
   ],
   "source": [
    "# we define a symbolic expression to tell if a prediction is\n",
    "# correct or not\n",
    "\n",
    "# we need the argmax because preds is between 0 and 1, not\n",
    "# only 0 and 1\n",
    "correct_prediction = tf.equal(tf.argmax(preds,1), tf.argmax(targets,1))\n",
    "\n",
    "# accuracy is the percentage of correct predictions over all\n",
    "accuracy = tf.reduce_mean(tf.cast(correct_prediction, tf.float32))\n",
    "\n",
    "\n",
    "# and now we execute the above symbolic expression on the actual data\n",
    "# NOTE: we use a test set to check the accuracy, which the model has not\n",
    "# seen before\n",
    "sess.run(accuracy, feed_dict={x: mnist.test.images, \n",
    "                            targets: mnist.test.labels})"
   ]
  },
  {
   "cell_type": "markdown",
   "metadata": {
    "deletable": true,
    "editable": true
   },
   "source": [
    "### ~ 92 % accurate predictions with a simple logistic regression, not too shabby :)"
   ]
  }
 ],
 "metadata": {
  "kernelspec": {
   "display_name": "Python 3",
   "language": "python",
   "name": "python3"
  },
  "language_info": {
   "codemirror_mode": {
    "name": "ipython",
    "version": 3
   },
   "file_extension": ".py",
   "mimetype": "text/x-python",
   "name": "python",
   "nbconvert_exporter": "python",
   "pygments_lexer": "ipython3",
   "version": "3.5.2"
  }
 },
 "nbformat": 4,
 "nbformat_minor": 2
}
